{
 "cells": [
  {
   "cell_type": "code",
   "execution_count": 1,
   "metadata": {},
   "outputs": [],
   "source": [
    "from numpy import loadtxt, reshape\n",
    "import matplotlib.pyplot as plt\n",
    "from glob import glob\n",
    "plt.ioff()"
   ]
  },
  {
   "cell_type": "code",
   "execution_count": 7,
   "metadata": {},
   "outputs": [],
   "source": [
    "filenames = glob(\"./output_*.dat\")\n",
    "filenames.sort()\n",
    "\n",
    "for filename in filenames:\n",
    "    fig = plt.figure()\n",
    "    ax = fig.add_subplot(111)\n",
    "    \n",
    "    file = open(filename, 'r')\n",
    "\n",
    "    xCells = int(file.readline().split()[1])\n",
    "    yCells = int(file.readline().split()[1])\n",
    "    ghostCells = int(file.readline().split()[1])\n",
    "    time = int(file.readline().split()[1])\n",
    "    cfl = float(file.readline().split()[1])\n",
    "\n",
    "    file.close()\n",
    "\n",
    "    x,y,u = loadtxt(filename, skiprows=5, unpack=True)\n",
    "\n",
    "    x = reshape(x, (xCells + 2 * ghostCells, yCells + 2 * ghostCells))\n",
    "    y = reshape(y, (xCells + 2 * ghostCells, yCells + 2 * ghostCells))\n",
    "    u = reshape(u, (xCells + 2 * ghostCells, yCells + 2 * ghostCells))\n",
    "\n",
    "\n",
    "    ax.contourf(x, y, u)\n",
    "    ax.set_title(\"CFL = %1.3f Time = %5.3f\" % (cfl, time))\n",
    "    fig.savefig(filename.replace(\".dat\", \".png\"))\n",
    "    \n"
   ]
  },
  {
   "cell_type": "code",
   "execution_count": null,
   "metadata": {},
   "outputs": [],
   "source": []
  }
 ],
 "metadata": {
  "kernelspec": {
   "display_name": "Python 3",
   "language": "python",
   "name": "python3"
  },
  "language_info": {
   "codemirror_mode": {
    "name": "ipython",
    "version": 3
   },
   "file_extension": ".py",
   "mimetype": "text/x-python",
   "name": "python",
   "nbconvert_exporter": "python",
   "pygments_lexer": "ipython3",
   "version": "3.6.2"
  }
 },
 "nbformat": 4,
 "nbformat_minor": 2
}
