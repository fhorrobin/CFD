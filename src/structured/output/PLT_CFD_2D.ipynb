{
 "cells": [
  {
   "cell_type": "code",
   "execution_count": 1,
   "metadata": {},
   "outputs": [],
   "source": [
    "from numpy import loadtxt, reshape\n",
    "import matplotlib.pyplot as plt\n",
    "from glob import glob\n",
    "import imageio\n",
    "plt.ioff()"
   ]
  },
  {
   "cell_type": "code",
   "execution_count": 3,
   "metadata": {},
   "outputs": [
    {
     "name": "stderr",
     "output_type": "stream",
     "text": [
      "/usr/local/lib/python3.6/site-packages/matplotlib/pyplot.py:523: RuntimeWarning: More than 20 figures have been opened. Figures created through the pyplot interface (`matplotlib.pyplot.figure`) are retained until explicitly closed and may consume too much memory. (To control this warning, see the rcParam `figure.max_open_warning`).\n",
      "  max_open_warning, RuntimeWarning)\n"
     ]
    }
   ],
   "source": [
    "filenames = glob(\"./output_*.dat\")\n",
    "filenames.sort()\n",
    "\n",
    "for filename in filenames:\n",
    "    fig = plt.figure(figsize=(6,6))\n",
    "    ax = fig.add_subplot(111)\n",
    "    \n",
    "    file = open(filename, 'r')\n",
    "\n",
    "    xCells = int(file.readline().split()[1])\n",
    "    yCells = int(file.readline().split()[1])\n",
    "    ghostCells = int(file.readline().split()[1])\n",
    "    time = float(file.readline().split()[1])\n",
    "    cfl = float(file.readline().split()[1])\n",
    "\n",
    "    file.close()\n",
    "\n",
    "    x,y,u = loadtxt(filename, skiprows=5, unpack=True)\n",
    "\n",
    "    x = reshape(x, (xCells + 2 * ghostCells, yCells + 2 * ghostCells))\n",
    "    y = reshape(y, (xCells + 2 * ghostCells, yCells + 2 * ghostCells))\n",
    "    u = reshape(u, (xCells + 2 * ghostCells, yCells + 2 * ghostCells))\n",
    "\n",
    "\n",
    "    cs = ax.contourf(x, y, u)\n",
    "    fig.colorbar(cs, ax=ax)\n",
    "    ax.set_title(\"CFL = %1.3f Time = %5.3f\" % (cfl, time))\n",
    "    fig.savefig(filename.replace(\".dat\", \".png\"))\n",
    "    \n"
   ]
  },
  {
   "cell_type": "code",
   "execution_count": 5,
   "metadata": {},
   "outputs": [],
   "source": [
    "images = []\n",
    "output_name = (\"sim_cfl%1.3f.gif\" % cfl)\n",
    "for filename in filenames:\n",
    "    images.append(imageio.imread(filename.replace('.dat', '.png')))\n",
    "imageio.mimsave(output_name, images)"
   ]
  },
  {
   "cell_type": "code",
   "execution_count": null,
   "metadata": {},
   "outputs": [],
   "source": []
  }
 ],
 "metadata": {
  "kernelspec": {
   "display_name": "Python 3",
   "language": "python",
   "name": "python3"
  },
  "language_info": {
   "codemirror_mode": {
    "name": "ipython",
    "version": 3
   },
   "file_extension": ".py",
   "mimetype": "text/x-python",
   "name": "python",
   "nbconvert_exporter": "python",
   "pygments_lexer": "ipython3",
   "version": "3.6.2"
  }
 },
 "nbformat": 4,
 "nbformat_minor": 2
}
