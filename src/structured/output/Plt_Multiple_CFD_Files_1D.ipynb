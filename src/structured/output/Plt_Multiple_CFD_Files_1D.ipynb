{
 "cells": [
  {
   "cell_type": "code",
   "execution_count": 4,
   "metadata": {},
   "outputs": [],
   "source": [
    "from numpy import loadtxt\n",
    "from glob import glob\n",
    "import matplotlib.pyplot as plt\n",
    "plt.ioff()"
   ]
  },
  {
   "cell_type": "code",
   "execution_count": 11,
   "metadata": {},
   "outputs": [],
   "source": [
    "filenames = glob(\"./output_*.dat\")\n",
    "filenames.sort()\n",
    "\n",
    "for filename in filenames:\n",
    "    fig = plt.figure()\n",
    "    ax = fig.add_subplot(111)\n",
    "    \n",
    "    file = open(filename, 'r')\n",
    "    xCells = int(file.readline().split()[1])\n",
    "    ghostCells = int(file.readline().split()[1])\n",
    "    time = float(file.readline().split()[1])\n",
    "    file.close()\n",
    "    \n",
    "    x,u = loadtxt(filename, skiprows=3, unpack=True)\n",
    "    \n",
    "    p, = ax.plot(x, u, lw=5)\n",
    "    ax.set_xlim(-1, 1)\n",
    "    ax.set_ylim(-0.1, 1.1)\n",
    "    ax.set_title(\"Time = %5.3f\"%time)\n",
    "    fig.savefig(filename.replace(\".dat\", \".png\"))"
   ]
  },
  {
   "cell_type": "code",
   "execution_count": null,
   "metadata": {},
   "outputs": [],
   "source": []
  }
 ],
 "metadata": {
  "kernelspec": {
   "display_name": "Python 3",
   "language": "python",
   "name": "python3"
  },
  "language_info": {
   "codemirror_mode": {
    "name": "ipython",
    "version": 3
   },
   "file_extension": ".py",
   "mimetype": "text/x-python",
   "name": "python",
   "nbconvert_exporter": "python",
   "pygments_lexer": "ipython3",
   "version": "3.6.2"
  }
 },
 "nbformat": 4,
 "nbformat_minor": 2
}
